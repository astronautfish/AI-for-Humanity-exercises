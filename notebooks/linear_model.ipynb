{
 "cells": [
  {
   "cell_type": "code",
   "execution_count": 1,
   "id": "eb8da0e3-3010-434c-838b-70b22fcf68ad",
   "metadata": {},
   "outputs": [
    {
     "ename": "ImportError",
     "evalue": "cannot import name 'linaer_model' from 'ai4h.models' (/Users/noahcarelse/Library/CloudStorage/ProtonDrive-noahcarelse@protonmail.com-folder/Offline mappe/Universitet/01 - Cand polit/1. semester/02 - AI for Humanity/AIH github/exercises/src/ai4h/models/__init__.py)",
     "output_type": "error",
     "traceback": [
      "\u001b[31m---------------------------------------------------------------------------\u001b[39m",
      "\u001b[31mImportError\u001b[39m                               Traceback (most recent call last)",
      "\u001b[36mCell\u001b[39m\u001b[36m \u001b[39m\u001b[32mIn[1]\u001b[39m\u001b[32m, line 1\u001b[39m\n\u001b[32m----> \u001b[39m\u001b[32m1\u001b[39m \u001b[38;5;28;01mfrom\u001b[39;00m\u001b[38;5;250m \u001b[39m\u001b[34;01mai4h\u001b[39;00m\u001b[34;01m.\u001b[39;00m\u001b[34;01mmodels\u001b[39;00m\u001b[38;5;250m \u001b[39m\u001b[38;5;28;01mimport\u001b[39;00m linaer_model\n\u001b[32m      2\u001b[39m linear_model.test()\n",
      "\u001b[31mImportError\u001b[39m: cannot import name 'linaer_model' from 'ai4h.models' (/Users/noahcarelse/Library/CloudStorage/ProtonDrive-noahcarelse@protonmail.com-folder/Offline mappe/Universitet/01 - Cand polit/1. semester/02 - AI for Humanity/AIH github/exercises/src/ai4h/models/__init__.py)"
     ]
    }
   ],
   "source": [
    "from ai4h.models import linear_model\n",
    "linear_model.test()"
   ]
  }
 ],
 "metadata": {
  "kernelspec": {
   "display_name": "Python 3 (ipykernel)",
   "language": "python",
   "name": "python3"
  },
  "language_info": {
   "codemirror_mode": {
    "name": "ipython",
    "version": 3
   },
   "file_extension": ".py",
   "mimetype": "text/x-python",
   "name": "python",
   "nbconvert_exporter": "python",
   "pygments_lexer": "ipython3",
   "version": "3.13.7"
  }
 },
 "nbformat": 4,
 "nbformat_minor": 5
}
